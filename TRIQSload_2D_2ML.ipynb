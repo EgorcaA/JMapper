{
 "cells": [
  {
   "cell_type": "code",
   "execution_count": 1,
   "metadata": {},
   "outputs": [],
   "source": [
    "%matplotlib inline\n",
    "\n",
    "import numpy as np\n",
    "import warnings\n",
    "warnings.filterwarnings('ignore')\n",
    "from  tqdm import tqdm\n",
    "\n",
    "import contextlib\n",
    "@contextlib.contextmanager\n",
    "def printoptions(*args, **kwargs):\n",
    "    original = np.get_printoptions()\n",
    "    np.set_printoptions(*args, **kwargs)\n",
    "    try:\n",
    "        yield\n",
    "    finally: \n",
    "        np.set_printoptions(**original)\n"
   ]
  },
  {
   "cell_type": "code",
   "execution_count": 2,
   "metadata": {},
   "outputs": [],
   "source": [
    "import sys\n",
    "sys.path.append(\"./src\")\n",
    "\n",
    "%load_ext autoreload\n",
    "%autoreload 2\n",
    "import wannier_loader \n",
    "import exchange_GG_2atoms"
   ]
  },
  {
   "cell_type": "code",
   "execution_count": 29,
   "metadata": {},
   "outputs": [],
   "source": [
    "HighSymPointsNames = [ 'G', 'M', 'K', 'G']\n",
    "# HighSymPointsDists = [0.        , 0.57736847, 0.91071231, 1.5774    ]\n",
    "HighSymPointsDists = [0. , 0.97778934, 1.54231628, 2.67137017]\n"
   ]
  },
  {
   "cell_type": "code",
   "execution_count": 4,
   "metadata": {},
   "outputs": [],
   "source": [
    "# read target kpath in integer units (see example)\n",
    "\n",
    "kpath = []\n",
    "kpath_draw = []\n",
    "with open(\"./kpaths/kpath_integer.dat\") as f:\n",
    "        for line in f:\n",
    "            hr_string = line.split()\n",
    "            kpath.append([int(hr_string[1]), int(hr_string[2])])\n",
    "            kpath_draw.append(float(hr_string[4]))\n",
    "kpath = np.array(kpath)                "
   ]
  },
  {
   "cell_type": "markdown",
   "metadata": {},
   "source": [
    "# $H_{m m'}(R)$"
   ]
  },
  {
   "cell_type": "code",
   "execution_count": 19,
   "metadata": {},
   "outputs": [
    {
     "name": "stdout",
     "output_type": "stream",
     "text": [
      "nwa  22\n",
      "Rpts 579\n",
      "we have 2D hamiltonian\n",
      "nwa  22\n",
      "Rpts 579\n",
      "we have 2D hamiltonian\n"
     ]
    }
   ],
   "source": [
    "wannier_dir = './data/2layer/'\n",
    "loader = wannier_loader.Wannier_loader_FM(wannier_dir)"
   ]
  },
  {
   "cell_type": "code",
   "execution_count": 20,
   "metadata": {},
   "outputs": [
    {
     "name": "stderr",
     "output_type": "stream",
     "text": [
      "100%|██████████| 576/576 [00:04<00:00, 129.80it/s]\n",
      "100%|██████████| 576/576 [00:04<00:00, 128.80it/s]\n"
     ]
    }
   ],
   "source": [
    "nkpt = 24\n",
    "\n",
    "loader.get_dense_hk(nkpt=nkpt)"
   ]
  },
  {
   "cell_type": "code",
   "execution_count": 21,
   "metadata": {},
   "outputs": [],
   "source": [
    "hks = np.transpose(loader.hks_spins, (3, 2, 0, 1))\n",
    "hk_mn_up = hks[0] \n",
    "hk_mn_dn = hks[1] "
   ]
  },
  {
   "cell_type": "code",
   "execution_count": 22,
   "metadata": {},
   "outputs": [
    {
     "data": {
      "text/plain": [
       "(576, 22, 22)"
      ]
     },
     "execution_count": 22,
     "metadata": {},
     "output_type": "execute_result"
    }
   ],
   "source": [
    "hk_mn_up.shape"
   ]
  },
  {
   "cell_type": "markdown",
   "metadata": {},
   "source": [
    "# Delta"
   ]
  },
  {
   "cell_type": "code",
   "execution_count": 23,
   "metadata": {},
   "outputs": [
    {
     "name": "stdout",
     "output_type": "stream",
     "text": [
      "[[-2.68  0.   -0.    0.   -0.    0.01  0.    0.   -0.   -0.  ]\n",
      " [ 0.   -1.99  0.    0.    0.4   0.   -0.   -0.    0.   -0.  ]\n",
      " [ 0.   -0.   -1.99  0.4   0.    0.   -0.   -0.   -0.    0.  ]\n",
      " [ 0.    0.    0.4  -2.37 -0.   -0.    0.   -0.   -0.    0.  ]\n",
      " [-0.    0.4   0.   -0.   -2.37 -0.   -0.    0.    0.   -0.  ]\n",
      " [ 0.01  0.   -0.   -0.   -0.   -2.68  0.   -0.    0.   -0.  ]\n",
      " [ 0.   -0.   -0.   -0.   -0.    0.   -1.99 -0.    0.    0.4 ]\n",
      " [ 0.   -0.   -0.   -0.   -0.   -0.    0.   -1.99  0.4   0.  ]\n",
      " [-0.   -0.   -0.   -0.   -0.    0.    0.    0.4  -2.37 -0.  ]\n",
      " [-0.   -0.   -0.   -0.   -0.   -0.    0.4   0.   -0.   -2.37]]\n"
     ]
    },
    {
     "data": {
      "text/plain": [
       "(2, 2, 5, 5)"
      ]
     },
     "execution_count": 23,
     "metadata": {},
     "output_type": "execute_result"
    }
   ],
   "source": [
    "dSarea = 1.0/(nkpt**2)\n",
    "Delta = np.real(dSarea*np.sum(hk_mn_up - hk_mn_dn, axis=0 ))\n",
    "\n",
    "assert np.linalg.norm(np.conj(Delta.T) - Delta) < 1e-9 , 'Delta is not hermitian'\n",
    "\n",
    "dDelta = Delta[12:, 12:]\n",
    "with printoptions(precision=2, suppress=True):\n",
    "    print(dDelta)\n",
    "\n",
    "DeltaBlock = np.array([\n",
    "    [dDelta[:5, :5], dDelta[:5, 5:]],\n",
    "    [dDelta[5:, :5], dDelta[5:, 5:]]\n",
    "])\n",
    "DeltaBlock.shape"
   ]
  },
  {
   "cell_type": "code",
   "execution_count": 25,
   "metadata": {},
   "outputs": [
    {
     "name": "stdout",
     "output_type": "stream",
     "text": [
      "[[[[-2.68  0.   -0.    0.   -0.  ]\n",
      "   [ 0.   -1.99  0.    0.    0.4 ]\n",
      "   [ 0.   -0.   -1.99  0.4   0.  ]\n",
      "   [ 0.    0.    0.4  -2.37 -0.  ]\n",
      "   [-0.    0.4   0.   -0.   -2.37]]\n",
      "\n",
      "  [[ 0.01  0.    0.   -0.   -0.  ]\n",
      "   [ 0.   -0.   -0.    0.   -0.  ]\n",
      "   [ 0.   -0.   -0.   -0.    0.  ]\n",
      "   [-0.    0.   -0.   -0.    0.  ]\n",
      "   [-0.   -0.    0.    0.   -0.  ]]]\n",
      "\n",
      "\n",
      " [[[ 0.01  0.   -0.   -0.   -0.  ]\n",
      "   [ 0.   -0.   -0.   -0.   -0.  ]\n",
      "   [ 0.   -0.   -0.   -0.   -0.  ]\n",
      "   [-0.   -0.   -0.   -0.   -0.  ]\n",
      "   [-0.   -0.   -0.   -0.   -0.  ]]\n",
      "\n",
      "  [[-2.68  0.   -0.    0.   -0.  ]\n",
      "   [ 0.   -1.99 -0.    0.    0.4 ]\n",
      "   [-0.    0.   -1.99  0.4   0.  ]\n",
      "   [ 0.    0.    0.4  -2.37 -0.  ]\n",
      "   [-0.    0.4   0.   -0.   -2.37]]]]\n"
     ]
    }
   ],
   "source": [
    "with printoptions(precision=2, suppress=True):\n",
    "    print(DeltaBlock)"
   ]
  },
  {
   "cell_type": "markdown",
   "metadata": {},
   "source": [
    "# J(q)"
   ]
  },
  {
   "cell_type": "code",
   "execution_count": 26,
   "metadata": {},
   "outputs": [
    {
     "name": "stderr",
     "output_type": "stream",
     "text": [
      "100%|██████████| 576/576 [00:12<00:00, 45.11it/s]\n",
      "100%|██████████| 576/576 [00:09<00:00, 59.40it/s]\n"
     ]
    },
    {
     "name": "stdout",
     "output_type": "stream",
     "text": [
      "J = 1477.46254+0.00000j meV\n"
     ]
    }
   ],
   "source": [
    "eF = -0.9745\n",
    "beta = 18\n",
    "n_iw = 200\n",
    "S = 1.5 # spin\n",
    "\n",
    "exchanges = exchange_GG_2atoms.Exchanges2(hk_mn_up, hk_mn_dn, DeltaBlock, S, eF, beta, n_iw)"
   ]
  },
  {
   "cell_type": "code",
   "execution_count": 27,
   "metadata": {},
   "outputs": [
    {
     "name": "stderr",
     "output_type": "stream",
     "text": [
      "100%|██████████| 25/25 [00:05<00:00,  4.73it/s]\n"
     ]
    },
    {
     "name": "stdout",
     "output_type": "stream",
     "text": [
      "J(Gamma) = 8.072 meV\n"
     ]
    },
    {
     "name": "stderr",
     "output_type": "stream",
     "text": [
      "100%|██████████| 25/25 [00:05<00:00,  4.69it/s]"
     ]
    },
    {
     "name": "stdout",
     "output_type": "stream",
     "text": [
      "J(Gamma) = 1.815 meV\n"
     ]
    },
    {
     "name": "stderr",
     "output_type": "stream",
     "text": [
      "\n"
     ]
    }
   ],
   "source": [
    "# calculate J(q) along kpath\n",
    "J00, J01 = exchanges.getJpath(kpath)"
   ]
  },
  {
   "cell_type": "code",
   "execution_count": 30,
   "metadata": {},
   "outputs": [
    {
     "data": {
      "image/png": "[encoded data removed]",
      "text/plain": [
       "<Figure size 600x312.5 with 1 Axes>"
      ]
     },
     "metadata": {},
     "output_type": "display_data"
    }
   ],
   "source": [
    "exchanges.plot( HighSymPointsDists, HighSymPointsNames, kpath_draw, saveQ=False)"
   ]
  },
  {
   "cell_type": "markdown",
   "metadata": {},
   "source": [
    "# J(R)"
   ]
  },
  {
   "cell_type": "code",
   "execution_count": 31,
   "metadata": {},
   "outputs": [
    {
     "name": "stdout",
     "output_type": "stream",
     "text": [
      "{3.76: [[-1, -1], [-1, 0], [0, -1], [0, 1], [1, 0], [1, 1]], 6.51: [[-2, -1], [-1, -2], [-1, 1], [1, -1], [1, 2], [2, 1]], 7.52: [[-2, -2], [-2, 0], [0, -2], [0, 2], [2, 0], [2, 2]], 9.95: [[-3, -2], [-3, -1], [-2, -3], [-2, 1], [-1, -3], [-1, 2], [1, -2], [1, 3], [2, -1], [2, 3], [3, 1], [3, 2]], 11.28: [[-3, -3], [-3, 0], [0, -3], [0, 3], [3, 0], [3, 3]], 13.03: [[-4, -2], [-2, -4], [-2, 2], [2, -2], [2, 4], [4, 2]], 13.56: [[-4, -3], [-4, -1], [-3, -4], [-3, 1], [-1, -4], [-1, 3], [1, -3], [1, 4], [3, -1], [3, 4], [4, 1], [4, 3]], 15.04: [[-4, -4], [-4, 0], [0, -4], [0, 4], [4, 0], [4, 4]], 16.39: [[-5, -3], [-5, -2], [-3, -5], [-3, 2], [-2, -5], [-2, 3], [2, -3], [2, 5], [3, -2], [3, 5], [5, 2], [5, 3]]}\n",
      "\n",
      "\n",
      "[1, 1, 1, 1, 1, 1, 2, 2, 2, 2, 2, 2, 3, 3, 3, 3, 3, 3, 4, 4, 4, 4, 4, 4, 4, 4, 4, 4, 4, 4, 5, 5, 5, 5, 5, 5, 6, 6, 6, 6, 6, 6, 7, 7, 7, 7, 7, 7, 7, 7, 7, 7, 7, 7, 8, 8, 8, 8, 8, 8, 9, 9, 9, 9, 9, 9, 9, 9, 9, 9, 9, 9]\n",
      "72\n"
     ]
    }
   ],
   "source": [
    "# lattice vectors in A\n",
    "a = np.array([[ 3.7600002707,  0.           , 0.          ],\n",
    "              [-1.8800001353,  3.2562557526 , 0.          ],\n",
    "              [ 0.          ,  0.           ,40.0000028793]])\n",
    "\n",
    "\n",
    "vert = {}\n",
    "num_vert=20\n",
    "for i_index in range(-num_vert, num_vert):\n",
    "    for j_index in range(-num_vert, num_vert):\n",
    "        pair = [i_index, j_index]\n",
    "        dist = np.round(np.linalg.norm(i_index*a[0] + j_index*a[1]), 2)\n",
    "        if dist not in vert: \n",
    "            vert[dist]=[pair]\n",
    "        else:\n",
    "            vert[dist].append(pair)\n",
    "\n",
    "# dist <-> [coords] in reciprocial vectors units\n",
    "sorted_vert_J = dict(sorted(vert.items())[1:10])\n",
    "print(sorted_vert_J)\n",
    "\n",
    "#coords of neighbours\n",
    "J_path = [ np.array(x)[:, np.newaxis] for y in list(sorted_vert_J.values()) for x in y]\n",
    "\n",
    "tmp = [len(x)*[i+1]  for i, x in enumerate(list(sorted_vert_J.values()))]\n",
    "J_path_plt = [ x for y in tmp for x in y] #list of neighbours orders\n",
    "\n",
    "print('\\n')\n",
    "print(J_path_plt)\n",
    "print(len(J_path_plt))"
   ]
  },
  {
   "cell_type": "code",
   "execution_count": 32,
   "metadata": {},
   "outputs": [
    {
     "name": "stderr",
     "output_type": "stream",
     "text": [
      "100%|██████████| 72/72 [00:04<00:00, 17.79it/s]\n",
      "100%|██████████| 72/72 [00:03<00:00, 18.60it/s]\n"
     ]
    }
   ],
   "source": [
    "# calculate J(R) in neighbours list \n",
    "Js_neib00 =  np.array([ exchanges.calc_J(r.flatten(),0,0, 0) for r in tqdm(J_path)])\n",
    "Js_neib01 =  np.array([ exchanges.calc_J(r.flatten(),0,1, 0) for r in tqdm(J_path)])"
   ]
  },
  {
   "cell_type": "code",
   "execution_count": 33,
   "metadata": {},
   "outputs": [
    {
     "name": "stdout",
     "output_type": "stream",
     "text": [
      "\n",
      "J00\n",
      "\t #Neib   \t Sum J (meV)  \t J mean (meV)\n",
      "--------------------------------------------------\n",
      "                 6\t                -6.02\t                 -1.00                 \n",
      "                 6\t                11.61\t                 1.94                 \n",
      "                 6\t                5.91\t                 0.99                 \n",
      "                 12\t                -2.09\t                 -0.17                 \n",
      "                 6\t                0.42\t                 0.07                 \n",
      "                 6\t                -0.09\t                 -0.01                 \n",
      "                 12\t                -0.65\t                 -0.05                 \n",
      "                 6\t                -0.03\t                 -0.00                 \n",
      "                 12\t                -1.43\t                 -0.12                 \n",
      "Total 7.63 (meV) FM\n",
      "\n",
      "J01\n",
      "\t #Neib   \t Sum J (meV)  \t J mean (meV)\n",
      "--------------------------------------------------\n",
      "                 6\t                2.89\t                 0.48                 \n",
      "                 6\t                -3.99\t                 -0.67                 \n",
      "                 6\t                0.75\t                 0.12                 \n",
      "                 12\t                0.78\t                 0.06                 \n",
      "                 6\t                -0.48\t                 -0.08                 \n",
      "                 6\t                -0.58\t                 -0.10                 \n",
      "                 12\t                0.80\t                 0.07                 \n",
      "                 6\t                0.07\t                 0.01                 \n",
      "                 12\t                0.72\t                 0.06                 \n",
      "Total 0.96 (meV) FM\n"
     ]
    },
    {
     "data": {
      "image/png": "[encoded data removed]",
      "text/plain": [
       "<Figure size 500x312.5 with 1 Axes>"
      ]
     },
     "metadata": {},
     "output_type": "display_data"
    }
   ],
   "source": [
    "exchange_GG_2atoms.plotJ_Real(Js_neib00, Js_neib01, sorted_vert_J, J_path_plt)"
   ]
  },
  {
   "cell_type": "code",
   "execution_count": null,
   "metadata": {},
   "outputs": [],
   "source": []
  }
 ],
 "metadata": {
  "kernelspec": {
   "display_name": "triqs",
   "language": "python",
   "name": "python3"
  },
  "language_info": {
   "codemirror_mode": {
    "name": "ipython",
    "version": 3
   },
   "file_extension": ".py",
   "mimetype": "text/x-python",
   "name": "python",
   "nbconvert_exporter": "python",
   "pygments_lexer": "ipython3",
   "version": "3.12.1"
  }
 },
 "nbformat": 4,
 "nbformat_minor": 2
}
