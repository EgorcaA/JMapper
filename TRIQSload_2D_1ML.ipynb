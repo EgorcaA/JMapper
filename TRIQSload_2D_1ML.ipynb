{
 "cells": [
  {
   "cell_type": "code",
   "execution_count": 1,
   "metadata": {},
   "outputs": [],
   "source": [
    "%matplotlib inline\n",
    "\n",
    "import numpy as np\n",
    "import warnings\n",
    "warnings.filterwarnings('ignore')\n",
    "from  tqdm import tqdm\n",
    "\n",
    "import contextlib\n",
    "@contextlib.contextmanager\n",
    "def printoptions(*args, **kwargs):\n",
    "    original = np.get_printoptions()\n",
    "    np.set_printoptions(*args, **kwargs)\n",
    "    try:\n",
    "        yield\n",
    "    finally: \n",
    "        np.set_printoptions(**original)\n"
   ]
  },
  {
   "cell_type": "code",
   "execution_count": 2,
   "metadata": {},
   "outputs": [],
   "source": [
    "import sys\n",
    "sys.path.append(\"./src\")\n",
    "\n",
    "%load_ext autoreload\n",
    "%autoreload 2\n",
    "import wannier_loader \n",
    "import exchange_GG"
   ]
  },
  {
   "cell_type": "code",
   "execution_count": 3,
   "metadata": {},
   "outputs": [],
   "source": [
    "HighSymPointsNames = [ 'G', 'M', 'K', 'G']\n",
    "HighSymPointsDists = [0. , 0.97778934, 1.54231628, 2.67137017]\n",
    "# qe2wan = 1.6935274297723675"
   ]
  },
  {
   "cell_type": "code",
   "execution_count": 20,
   "metadata": {},
   "outputs": [],
   "source": [
    "# read target kpath in integer units (see example)\n",
    "kpath = []\n",
    "kpath_draw = []\n",
    "with open(\"./kpaths/kpath_integer.dat\") as f:\n",
    "        for line in f:\n",
    "            hr_string = line.split()\n",
    "            kpath.append([int(hr_string[1]), int(hr_string[2])])\n",
    "            kpath_draw.append(float(hr_string[4]))\n",
    "kpath = np.array(kpath)"
   ]
  },
  {
   "cell_type": "markdown",
   "metadata": {},
   "source": [
    "# $H_{m m'}(R)$"
   ]
  },
  {
   "cell_type": "code",
   "execution_count": 12,
   "metadata": {},
   "outputs": [
    {
     "name": "stdout",
     "output_type": "stream",
     "text": [
      "nwa  11\n",
      "Rpts 403\n",
      "we have 2D hamiltonian\n",
      "nwa  11\n",
      "Rpts 403\n",
      "we have 2D hamiltonian\n"
     ]
    }
   ],
   "source": [
    "wannier_dir = './data/1layer/'\n",
    "loader = wannier_loader.Wannier_loader_FM(wannier_dir)"
   ]
  },
  {
   "cell_type": "code",
   "execution_count": 13,
   "metadata": {},
   "outputs": [
    {
     "name": "stderr",
     "output_type": "stream",
     "text": [
      "100%|██████████| 576/576 [00:01<00:00, 372.66it/s]\n",
      "100%|██████████| 576/576 [00:01<00:00, 375.06it/s]\n"
     ]
    }
   ],
   "source": [
    "nkpt = 24\n",
    "\n",
    "loader.get_dense_hk(nkpt=nkpt)"
   ]
  },
  {
   "cell_type": "code",
   "execution_count": 14,
   "metadata": {},
   "outputs": [],
   "source": [
    "hks = np.transpose(loader.hks_spins, (3, 2, 0, 1))\n",
    "hk_mn_up = hks[0] \n",
    "hk_mn_dn = hks[1] "
   ]
  },
  {
   "cell_type": "code",
   "execution_count": 15,
   "metadata": {},
   "outputs": [
    {
     "data": {
      "text/plain": [
       "(576, 11, 11)"
      ]
     },
     "execution_count": 15,
     "metadata": {},
     "output_type": "execute_result"
    }
   ],
   "source": [
    "hk_mn_up.shape"
   ]
  },
  {
   "cell_type": "markdown",
   "metadata": {},
   "source": [
    "# Delta"
   ]
  },
  {
   "cell_type": "code",
   "execution_count": 16,
   "metadata": {},
   "outputs": [
    {
     "name": "stdout",
     "output_type": "stream",
     "text": [
      "[[-0.04 -0.   -0.    0.05  0.04 -0.02 -0.12 -0.    0.02 -0.06  0.  ]\n",
      " [-0.    0.01  0.    0.04  0.03 -0.03  0.   -0.08 -0.   -0.    0.13]\n",
      " [-0.   -0.    0.01 -0.02 -0.03 -0.01 -0.07  0.    0.04 -0.05 -0.  ]\n",
      " [ 0.05  0.04 -0.02 -0.04 -0.   -0.    0.12  0.02  0.01 -0.03 -0.05]\n",
      " [ 0.04  0.03 -0.03 -0.    0.01 -0.   -0.06 -0.01 -0.05  0.08 -0.  ]\n",
      " [-0.02 -0.03 -0.01 -0.    0.    0.01 -0.03 -0.05  0.05 -0.09  0.08]\n",
      " [-0.12  0.   -0.07  0.12 -0.06 -0.03 -2.54  0.   -0.   -0.   -0.  ]\n",
      " [-0.   -0.08  0.    0.02 -0.01 -0.05  0.   -1.88 -0.    0.    0.39]\n",
      " [ 0.02  0.    0.04  0.01 -0.05  0.05 -0.   -0.   -1.88  0.39  0.  ]\n",
      " [-0.06 -0.   -0.05 -0.03  0.08 -0.09 -0.    0.    0.39 -2.21 -0.  ]\n",
      " [ 0.    0.13 -0.   -0.05 -0.    0.08 -0.    0.39  0.   -0.   -2.21]]\n"
     ]
    }
   ],
   "source": [
    "dSarea = 1.0/(nkpt**2)\n",
    "Delta = np.real(dSarea*np.sum(hk_mn_up - hk_mn_dn, axis=0 ))\n",
    "\n",
    "assert np.linalg.norm(np.conj(Delta.T) - Delta) < 1e-9 , 'Delta is not hermitian'\n",
    "\n",
    "## can zero out p orbitals\n",
    "# Delta[:4, :4] = 0\n",
    "# Delta[4:, :4] = 0\n",
    "# Delta[:4, 4:] = 0\n",
    "\n",
    "with printoptions(precision=2, suppress=True):\n",
    "    print(Delta)\n"
   ]
  },
  {
   "cell_type": "markdown",
   "metadata": {},
   "source": [
    "# J(q)"
   ]
  },
  {
   "cell_type": "code",
   "execution_count": 17,
   "metadata": {},
   "outputs": [
    {
     "name": "stderr",
     "output_type": "stream",
     "text": [
      "100%|██████████| 576/576 [00:03<00:00, 161.47it/s]\n",
      "100%|██████████| 576/576 [00:03<00:00, 169.65it/s]\n"
     ]
    },
    {
     "name": "stdout",
     "output_type": "stream",
     "text": [
      "J = 1355.17340-0.00000j meV\n"
     ]
    }
   ],
   "source": [
    "eF = -1.014 # fermi E in eV\n",
    "beta = 10\n",
    "n_iw = 200\n",
    "S = 1.5 # spin\n",
    "\n",
    "exchanges = exchange_GG.Exchanges(hk_mn_up, hk_mn_dn, Delta, S, eF, beta, n_iw)"
   ]
  },
  {
   "cell_type": "code",
   "execution_count": 21,
   "metadata": {},
   "outputs": [
    {
     "name": "stderr",
     "output_type": "stream",
     "text": [
      "100%|██████████| 25/25 [00:24<00:00,  1.04it/s]\n"
     ]
    }
   ],
   "source": [
    "# calculate J(q) along kpath\n",
    "Jqs = exchanges.getJpath(kpath)"
   ]
  },
  {
   "cell_type": "code",
   "execution_count": 22,
   "metadata": {},
   "outputs": [
    {
     "data": {
      "image/png": "[encoded data removed]",
      "text/plain": [
       "<Figure size 600x312.5 with 1 Axes>"
      ]
     },
     "metadata": {},
     "output_type": "display_data"
    }
   ],
   "source": [
    "exchanges.plot(Jqs, HighSymPointsDists, HighSymPointsNames, kpath_draw, saveQ=False)"
   ]
  },
  {
   "cell_type": "markdown",
   "metadata": {},
   "source": [
    "# J(R)"
   ]
  },
  {
   "cell_type": "code",
   "execution_count": 74,
   "metadata": {},
   "outputs": [
    {
     "name": "stdout",
     "output_type": "stream",
     "text": [
      "{3.71: [[-1, -1], [-1, 0], [0, -1], [0, 1], [1, 0], [1, 1]], 6.43: [[-2, -1], [-1, -2], [-1, 1], [1, -1], [1, 2], [2, 1]], 7.42: [[-2, -2], [-2, 0], [0, -2], [0, 2], [2, 0], [2, 2]], 9.82: [[-3, -2], [-3, -1], [-2, -3], [-2, 1], [-1, -3], [-1, 2], [1, -2], [1, 3], [2, -1], [2, 3], [3, 1], [3, 2]], 11.13: [[-3, -3], [-3, 0], [0, -3], [0, 3], [3, 0], [3, 3]], 12.85: [[-4, -2], [-2, -4], [-2, 2], [2, -2], [2, 4], [4, 2]], 13.38: [[-4, -3], [-4, -1], [-3, -4], [-3, 1], [-1, -4], [-1, 3], [1, -3], [1, 4], [3, -1], [3, 4], [4, 1], [4, 3]], 14.84: [[-4, -4], [-4, 0], [0, -4], [0, 4], [4, 0], [4, 4]], 16.17: [[-5, -3], [-5, -2], [-3, -5], [-3, 2], [-2, -5], [-2, 3], [2, -3], [2, 5], [3, -2], [3, 5], [5, 2], [5, 3]]}\n",
      "\n",
      "\n",
      "[1, 1, 1, 1, 1, 1, 2, 2, 2, 2, 2, 2, 3, 3, 3, 3, 3, 3, 4, 4, 4, 4, 4, 4, 4, 4, 4, 4, 4, 4, 5, 5, 5, 5, 5, 5, 6, 6, 6, 6, 6, 6, 7, 7, 7, 7, 7, 7, 7, 7, 7, 7, 7, 7, 8, 8, 8, 8, 8, 8, 9, 9, 9, 9, 9, 9, 9, 9, 9, 9, 9, 9]\n",
      "72\n"
     ]
    }
   ],
   "source": [
    "# lattice vectors in A\n",
    "a = np.array([[ 3.71000027,  0.        ,  0.        ],\n",
    "              [-1.85500013,  3.21295448,  0.        ],\n",
    "              [ 0.        ,  0.        , 20.00000144]])\n",
    "\n",
    "\n",
    "vert = {}\n",
    "num_vert=20\n",
    "for i_index in range(-num_vert, num_vert):\n",
    "    for j_index in range(-num_vert, num_vert):\n",
    "        pair = [i_index, j_index]\n",
    "        dist = np.round(np.linalg.norm(i_index*a[0] + j_index*a[1]), 2)\n",
    "        if dist not in vert: \n",
    "            vert[dist]=[pair]\n",
    "        else:\n",
    "            vert[dist].append(pair)\n",
    "\n",
    "# dist <-> [coords] in reciprocial vectors units\n",
    "sorted_vert_J = dict(sorted(vert.items())[1:10])\n",
    "print(sorted_vert_J)\n",
    "\n",
    "#coords of neighbours\n",
    "J_path = [ np.array(x)[:, np.newaxis] for y in list(sorted_vert_J.values()) for x in y]\n",
    "\n",
    "tmp = [len(x)*[i+1]  for i, x in enumerate(list(sorted_vert_J.values()))]\n",
    "J_path_plt = [ x for y in tmp for x in y] #list of neighbours orders\n",
    "\n",
    "print('\\n')\n",
    "print(J_path_plt)\n",
    "print(len(J_path_plt))"
   ]
  },
  {
   "cell_type": "code",
   "execution_count": 116,
   "metadata": {},
   "outputs": [
    {
     "name": "stderr",
     "output_type": "stream",
     "text": [
      "100%|██████████| 576/576 [09:11<00:00,  1.04it/s]\n",
      "100%|██████████| 72/72 [00:00<00:00, 262.20it/s]\n"
     ]
    }
   ],
   "source": [
    "# # calculate J(R) in neighbours list from fourier of J(q) VERY SLOW\n",
    "# Js = exchanges.JsReal(J_path)"
   ]
  },
  {
   "cell_type": "code",
   "execution_count": 105,
   "metadata": {},
   "outputs": [
    {
     "name": "stderr",
     "output_type": "stream",
     "text": [
      "100%|██████████| 72/72 [00:03<00:00, 18.76it/s]\n"
     ]
    }
   ],
   "source": [
    "# calculate J(R) in neighbours list \n",
    "Js =  np.array([ exchanges.calc_J(r.flatten(), 0) for r in tqdm(J_path)])"
   ]
  },
  {
   "cell_type": "code",
   "execution_count": 118,
   "metadata": {},
   "outputs": [
    {
     "name": "stdout",
     "output_type": "stream",
     "text": [
      "\t #Neib   \t Sum J (meV)  \t J mean (meV)\n",
      "--------------------------------------------------\n",
      "             6\t             -7.22\t             -1.20             \n",
      "             6\t             18.12\t             3.02             \n",
      "             6\t             10.37\t             1.73             \n",
      "             12\t             -4.17\t             -0.35             \n",
      "             6\t             0.30\t             0.05             \n",
      "             6\t             -0.68\t             -0.11             \n",
      "             12\t             -2.01\t             -0.17             \n",
      "             6\t             -0.15\t             -0.03             \n",
      "             12\t             -0.24\t             -0.02             \n",
      "Total 14.33 (meV) FM\n"
     ]
    },
    {
     "data": {
      "image/png": "[encoded data removed]",
      "text/plain": [
       "<Figure size 500x312.5 with 1 Axes>"
      ]
     },
     "metadata": {},
     "output_type": "display_data"
    }
   ],
   "source": [
    "exchange_GG.plotJ_Real(Js, sorted_vert_J, J_path_plt)"
   ]
  },
  {
   "cell_type": "code",
   "execution_count": null,
   "metadata": {},
   "outputs": [],
   "source": []
  }
 ],
 "metadata": {
  "kernelspec": {
   "display_name": "triqs",
   "language": "python",
   "name": "python3"
  },
  "language_info": {
   "codemirror_mode": {
    "name": "ipython",
    "version": 3
   },
   "file_extension": ".py",
   "mimetype": "text/x-python",
   "name": "python",
   "nbconvert_exporter": "python",
   "pygments_lexer": "ipython3",
   "version": "3.12.1"
  }
 },
 "nbformat": 4,
 "nbformat_minor": 2
}
